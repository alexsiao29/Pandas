{
 "cells": [
  {
   "cell_type": "code",
   "execution_count": 2,
   "id": "14c6ce69",
   "metadata": {},
   "outputs": [],
   "source": [
    "import pandas as pd\n",
    "\n",
    "df_csv=pd.read_csv('fct_invoice.csv')"
   ]
  },
  {
   "cell_type": "code",
   "execution_count": 3,
   "id": "5a490665",
   "metadata": {},
   "outputs": [
    {
     "data": {
      "text/plain": [
       "5191"
      ]
     },
     "execution_count": 3,
     "metadata": {},
     "output_type": "execute_result"
    }
   ],
   "source": [
    "#EASY 1\n",
    "\n",
    "import pandas as pd\n",
    "\n",
    "df_csv = pd.read_csv('fct_invoice.csv')\n",
    "\n",
    "df_csv['customer_id'].nunique()"
   ]
  },
  {
   "cell_type": "code",
   "execution_count": 4,
   "id": "2e2b42b2",
   "metadata": {},
   "outputs": [
    {
     "data": {
      "text/plain": [
       "array(['Clothing', 'Shoes', 'Books', 'Cosmetics', 'Food & Beverage',\n",
       "       'Toys', 'Technology', 'Souvenir'], dtype=object)"
      ]
     },
     "execution_count": 4,
     "metadata": {},
     "output_type": "execute_result"
    }
   ],
   "source": [
    "#EASY 2\n",
    "df_csv['category'].unique()"
   ]
  },
  {
   "cell_type": "code",
   "execution_count": 5,
   "id": "6a5e8ccf",
   "metadata": {},
   "outputs": [
    {
     "data": {
      "text/plain": [
       "8"
      ]
     },
     "execution_count": 5,
     "metadata": {},
     "output_type": "execute_result"
    }
   ],
   "source": [
    "#EASY 2\n",
    "df_csv['category'].nunique()"
   ]
  },
  {
   "cell_type": "code",
   "execution_count": 6,
   "id": "1d4f53c3",
   "metadata": {},
   "outputs": [
    {
     "name": "stdout",
     "output_type": "stream",
     "text": [
      "Cash\n",
      "44447\n"
     ]
    }
   ],
   "source": [
    "#EASY 3\n",
    "\n",
    "top=df_csv['payment_method'].value_counts()\n",
    "top2=top.index[0]\n",
    "top3=top.iloc[0]\n",
    "\n",
    "print(top2)\n",
    "print(top3)"
   ]
  },
  {
   "cell_type": "code",
   "execution_count": 7,
   "id": "dda5508a",
   "metadata": {},
   "outputs": [
    {
     "name": "stderr",
     "output_type": "stream",
     "text": [
      "/var/folders/2f/wgs7w77d7c3dsy50r7v01q680000gr/T/ipykernel_85965/2618827410.py:5: FutureWarning: The default value of numeric_only in DataFrameGroupBy.sum is deprecated. In a future version, numeric_only will default to False. Either specify numeric_only or select only columns which should be valid for the function.\n",
      "  rank=df_csv.groupby('category').sum()\n"
     ]
    },
    {
     "data": {
      "text/plain": [
       "category\n",
       "Clothing      1.139968e+08\n",
       "Shoes         6.655345e+07\n",
       "Technology    5.786235e+07\n",
       "Name: sales, dtype: float64"
      ]
     },
     "execution_count": 7,
     "metadata": {},
     "output_type": "execute_result"
    }
   ],
   "source": [
    "#MEDIUM 1\n",
    "\n",
    "total=df_csv['price']*df_csv['quantity']\n",
    "\n",
    "df_csv['sales']=total\n",
    "\n",
    "rank=df_csv.groupby('category').sum()\n",
    "\n",
    "rank2=rank['sales'].nlargest()\n",
    "\n",
    "rank2[0:3]"
   ]
  },
  {
   "cell_type": "code",
   "execution_count": 8,
   "id": "2d6501a1",
   "metadata": {},
   "outputs": [
    {
     "data": {
      "text/plain": [
       "82039768.15"
      ]
     },
     "execution_count": 8,
     "metadata": {},
     "output_type": "execute_result"
    }
   ],
   "source": [
    "#MEDIUM 2\n",
    "\n",
    "df_json=pd.read_json('dim_customer.json')\n",
    "\n",
    "merged=df_csv.merge(df_json,left_on=\"customer_id\",right_on=\"id\")\n",
    "\n",
    "boogsh=merged[merged['age']>45]['sales']\n",
    "boogsh.sum()"
   ]
  },
  {
   "cell_type": "code",
   "execution_count": 17,
   "id": "7ae2a5ba",
   "metadata": {},
   "outputs": [
    {
     "name": "stdout",
     "output_type": "stream",
     "text": [
      "[11091 11395 11383 11513 11214 11378 11503 11456  5605  1180  1016   723]\n"
     ]
    },
    {
     "data": {
      "image/png": "[encoded data removed]",
      "text/plain": [
       "<Figure size 640x480 with 1 Axes>"
      ]
     },
     "metadata": {},
     "output_type": "display_data"
    }
   ],
   "source": [
    "#MEDIUM 3\n",
    "\n",
    "import matplotlib.pyplot as plt\n",
    "\n",
    "merged['invoice_date'] = pd.to_datetime(merged['invoice_date'])\n",
    "\n",
    "merged['date_group']=merged['invoice_date'].dt.to_period('Q')\n",
    "\n",
    "Rev= merged.groupby('date_group').size()\n",
    "\n",
    "Rev.index = Rev.index.to_timestamp()\n",
    "\n",
    "plt.plot(Rev.index, Rev.values)\n",
    "plt.xlabel('Date')\n",
    "plt.ylabel('Sales')\n",
    "plt.title('Sales')\n",
    "plt.xticks(rotation=100)\n",
    "plt.show()\n"
   ]
  },
  {
   "cell_type": "code",
   "execution_count": 257,
   "id": "a91b38e8",
   "metadata": {},
   "outputs": [
    {
     "data": {
      "text/html": [
       "<div>\n",
       "<style scoped>\n",
       "    .dataframe tbody tr th:only-of-type {\n",
       "        vertical-align: middle;\n",
       "    }\n",
       "\n",
       "    .dataframe tbody tr th {\n",
       "        vertical-align: top;\n",
       "    }\n",
       "\n",
       "    .dataframe thead th {\n",
       "        text-align: right;\n",
       "    }\n",
       "</style>\n",
       "<table border=\"1\" class=\"dataframe\">\n",
       "  <thead>\n",
       "    <tr style=\"text-align: right;\">\n",
       "      <th>age</th>\n",
       "      <th>[0, 10)</th>\n",
       "      <th>[10, 20)</th>\n",
       "      <th>[20, 30)</th>\n",
       "      <th>[30, 40)</th>\n",
       "      <th>[40, 50)</th>\n",
       "      <th>[50, 60)</th>\n",
       "      <th>[60, 70)</th>\n",
       "      <th>[70, 80)</th>\n",
       "      <th>[80, 90)</th>\n",
       "      <th>[90, 100)</th>\n",
       "    </tr>\n",
       "    <tr>\n",
       "      <th>category</th>\n",
       "      <th></th>\n",
       "      <th></th>\n",
       "      <th></th>\n",
       "      <th></th>\n",
       "      <th></th>\n",
       "      <th></th>\n",
       "      <th></th>\n",
       "      <th></th>\n",
       "      <th></th>\n",
       "      <th></th>\n",
       "    </tr>\n",
       "  </thead>\n",
       "  <tbody>\n",
       "    <tr>\n",
       "      <th>Books</th>\n",
       "      <td>0.0</td>\n",
       "      <td>12801.75</td>\n",
       "      <td>79461.75</td>\n",
       "      <td>84143.10</td>\n",
       "      <td>87203.40</td>\n",
       "      <td>74962.20</td>\n",
       "      <td>80476.80</td>\n",
       "      <td>54827.85</td>\n",
       "      <td>26664.00</td>\n",
       "      <td>0.0</td>\n",
       "    </tr>\n",
       "    <tr>\n",
       "      <th>Clothing</th>\n",
       "      <td>0.0</td>\n",
       "      <td>1927413.84</td>\n",
       "      <td>10250732.80</td>\n",
       "      <td>11354126.96</td>\n",
       "      <td>11215189.92</td>\n",
       "      <td>10321851.76</td>\n",
       "      <td>10660642.08</td>\n",
       "      <td>7769371.28</td>\n",
       "      <td>4493698.00</td>\n",
       "      <td>0.0</td>\n",
       "    </tr>\n",
       "    <tr>\n",
       "      <th>Cosmetics</th>\n",
       "      <td>0.0</td>\n",
       "      <td>109619.36</td>\n",
       "      <td>605915.32</td>\n",
       "      <td>723544.70</td>\n",
       "      <td>665034.96</td>\n",
       "      <td>587780.96</td>\n",
       "      <td>649990.76</td>\n",
       "      <td>419082.62</td>\n",
       "      <td>254531.60</td>\n",
       "      <td>0.0</td>\n",
       "    </tr>\n",
       "    <tr>\n",
       "      <th>Food &amp; Beverage</th>\n",
       "      <td>0.0</td>\n",
       "      <td>13582.31</td>\n",
       "      <td>73491.96</td>\n",
       "      <td>87246.86</td>\n",
       "      <td>89553.29</td>\n",
       "      <td>72425.04</td>\n",
       "      <td>80976.09</td>\n",
       "      <td>55050.98</td>\n",
       "      <td>31332.93</td>\n",
       "      <td>0.0</td>\n",
       "    </tr>\n",
       "    <tr>\n",
       "      <th>Shoes</th>\n",
       "      <td>0.0</td>\n",
       "      <td>993281.35</td>\n",
       "      <td>5924878.24</td>\n",
       "      <td>7200839.66</td>\n",
       "      <td>7025590.02</td>\n",
       "      <td>5852857.84</td>\n",
       "      <td>5978893.54</td>\n",
       "      <td>4480269.05</td>\n",
       "      <td>2628744.60</td>\n",
       "      <td>0.0</td>\n",
       "    </tr>\n",
       "    <tr>\n",
       "      <th>Souvenir</th>\n",
       "      <td>0.0</td>\n",
       "      <td>12375.15</td>\n",
       "      <td>54943.32</td>\n",
       "      <td>64092.72</td>\n",
       "      <td>66391.80</td>\n",
       "      <td>54943.32</td>\n",
       "      <td>55025.43</td>\n",
       "      <td>38673.81</td>\n",
       "      <td>23718.06</td>\n",
       "      <td>0.0</td>\n",
       "    </tr>\n",
       "    <tr>\n",
       "      <th>Technology</th>\n",
       "      <td>0.0</td>\n",
       "      <td>1129800.00</td>\n",
       "      <td>5261550.00</td>\n",
       "      <td>6159300.00</td>\n",
       "      <td>5954550.00</td>\n",
       "      <td>4435200.00</td>\n",
       "      <td>5471550.00</td>\n",
       "      <td>3638250.00</td>\n",
       "      <td>1946700.00</td>\n",
       "      <td>0.0</td>\n",
       "    </tr>\n",
       "    <tr>\n",
       "      <th>Toys</th>\n",
       "      <td>0.0</td>\n",
       "      <td>60426.24</td>\n",
       "      <td>385100.80</td>\n",
       "      <td>420582.40</td>\n",
       "      <td>390906.88</td>\n",
       "      <td>345067.52</td>\n",
       "      <td>363955.20</td>\n",
       "      <td>273244.16</td>\n",
       "      <td>153932.80</td>\n",
       "      <td>0.0</td>\n",
       "    </tr>\n",
       "  </tbody>\n",
       "</table>\n",
       "</div>"
      ],
      "text/plain": [
       "age              [0, 10)    [10, 20)     [20, 30)     [30, 40)     [40, 50)  \\\n",
       "category                                                                      \n",
       "Books                0.0    12801.75     79461.75     84143.10     87203.40   \n",
       "Clothing             0.0  1927413.84  10250732.80  11354126.96  11215189.92   \n",
       "Cosmetics            0.0   109619.36    605915.32    723544.70    665034.96   \n",
       "Food & Beverage      0.0    13582.31     73491.96     87246.86     89553.29   \n",
       "Shoes                0.0   993281.35   5924878.24   7200839.66   7025590.02   \n",
       "Souvenir             0.0    12375.15     54943.32     64092.72     66391.80   \n",
       "Technology           0.0  1129800.00   5261550.00   6159300.00   5954550.00   \n",
       "Toys                 0.0    60426.24    385100.80    420582.40    390906.88   \n",
       "\n",
       "age                 [50, 60)     [60, 70)    [70, 80)    [80, 90)  [90, 100)  \n",
       "category                                                                      \n",
       "Books               74962.20     80476.80    54827.85    26664.00        0.0  \n",
       "Clothing         10321851.76  10660642.08  7769371.28  4493698.00        0.0  \n",
       "Cosmetics          587780.96    649990.76   419082.62   254531.60        0.0  \n",
       "Food & Beverage     72425.04     80976.09    55050.98    31332.93        0.0  \n",
       "Shoes             5852857.84   5978893.54  4480269.05  2628744.60        0.0  \n",
       "Souvenir            54943.32     55025.43    38673.81    23718.06        0.0  \n",
       "Technology        4435200.00   5471550.00  3638250.00  1946700.00        0.0  \n",
       "Toys               345067.52    363955.20   273244.16   153932.80        0.0  "
      ]
     },
     "execution_count": 257,
     "metadata": {},
     "output_type": "execute_result"
    }
   ],
   "source": [
    "#HARD 1\n",
    "grouped_data = merged.groupby(['category', 'Season'])['sales'].sum().reset_index()\n",
    "pivot_table = grouped_data.pivot_table(index='category', columns='Season', values='sales')\n",
    "\n",
    "age_range=pd.cut(merged['age'],bins=range(0,101,10),right=False)\n",
    "merged.pivot_table(index=\"category\", columns=age_range,values=\"sales\",aggfunc=\"sum\")"
   ]
  },
  {
   "cell_type": "code",
   "execution_count": null,
   "id": "bd2b85a1",
   "metadata": {},
   "outputs": [],
   "source": []
  }
 ],
 "metadata": {
  "kernelspec": {
   "display_name": "Python 3 (ipykernel)",
   "language": "python",
   "name": "python3"
  },
  "language_info": {
   "codemirror_mode": {
    "name": "ipython",
    "version": 3
   },
   "file_extension": ".py",
   "mimetype": "text/x-python",
   "name": "python",
   "nbconvert_exporter": "python",
   "pygments_lexer": "ipython3",
   "version": "3.10.9"
  }
 },
 "nbformat": 4,
 "nbformat_minor": 5
}
